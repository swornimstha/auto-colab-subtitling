{
  "nbformat": 4,
  "nbformat_minor": 0,
  "metadata": {
    "colab": {
      "provenance": [],
      "gpuType": "T4"
    },
    "kernelspec": {
      "name": "python3",
      "display_name": "Python 3"
    },
    "language_info": {
      "name": "python"
    },
    "accelerator": "GPU"
  },
  "cells": [
    {
      "cell_type": "markdown",
      "source": [
        "## First, Grab your Hugging Face token and paste it into HF_TOKEN. Turn on notebook access.\n",
        "[Tutorial](https://huggingface.co/docs/hub/en/security-tokens)\n",
        "\n",
        "![](https://raw.githubusercontent.com/NeuralFalconYT/Meta-Llama-3.1-Colab/main/colab.jpg)\n"
      ],
      "metadata": {
        "id": "PUEpVZx5bMBx"
      }
    },
    {
      "cell_type": "markdown",
      "source": [
        "[parakeet-tdt-0.6b-v2 Hugging Face Model Hub](https://huggingface.co/nvidia/parakeet-tdt-0.6b-v2) <br>\n",
        "[parakeet-tdt-0.6b-v2 Hugging Face Space](https://huggingface.co/spaces/nvidia/parakeet-tdt-0.6b-v2)"
      ],
      "metadata": {
        "id": "cG2i7FKQd5rx"
      }
    },
    {
      "cell_type": "code",
      "execution_count": null,
      "metadata": {
        "cellView": "form",
        "id": "Y8s2vtVpaJOj"
      },
      "outputs": [],
      "source": [
        "#@title Install parakeet-tdt-subtitle and Auto Restart Session [Click on cancel if you get any pop up]\n",
        "%cd /content/\n",
        "!git clone https://github.com/swornimstha/auto-colab-subtitling.git\n",
        "!pip install -U nemo_toolkit['asr']\n",
        "!pip install gradio>=5.29.0\n",
        "!pip install click\n",
        "\n",
        "from IPython.display import clear_output\n",
        "clear_output()\n",
        "import time\n",
        "time.sleep(5)\n",
        "import os\n",
        "os.kill(os.getpid(), 9)"
      ]
    },
    {
      "cell_type": "markdown",
      "source": [
        "After Getting the Red icon run next cell"
      ],
      "metadata": {
        "id": "q6EpCSzEbI3R"
      }
    },
    {
      "cell_type": "markdown",
      "source": [
        "For this code, don't upload more than 10 minutes of audio or video. Google Colab may run into CUDA out-of-memory errors. However, you can check out this script for transcribing up to 3 hours of audio:\n",
        "\n",
        "[Try this python Script](https://github.com/NVIDIA/NeMo/blob/main/examples/asr/asr_chunked_inference/rnnt/speech_to_text_buffered_infer_rnnt.py)"
      ],
      "metadata": {
        "id": "osvni41ceMUr"
      }
    },
    {
      "cell_type": "code",
      "source": [
        "%cd /content/parakeet-tdt-subtitle\n",
        "!python app.py --share --debug"
      ],
      "metadata": {
        "id": "e_RvC-gAchFb"
      },
      "execution_count": 1,
      "outputs": []
    }
  ]
}
